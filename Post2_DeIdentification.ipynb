{
 "cells": [
  {
   "cell_type": "markdown",
   "metadata": {},
   "source": [
    "# De-identification of patient notes with Recurrent neural nets"
   ]
  },
  {
   "cell_type": "markdown",
   "metadata": {},
   "source": [
    "In this notebook I explore the paper on De-identification of patient notes with Recurrent neural nets written by Frank Derencourt, Ji Young Lee, Peter Szolovits and Ozlen Uzuner."
   ]
  },
  {
   "cell_type": "markdown",
   "metadata": {},
   "source": [
    "The paper covers the use case of obfuscating the sensitive information in the patient medical records so that they can be used for research. This method aims to replace the traditional way of manual de-identification which costs a lot and is error prone. "
   ]
  },
  {
   "cell_type": "markdown",
   "metadata": {},
   "source": [
    "## Architecture"
   ]
  },
  {
   "cell_type": "markdown",
   "metadata": {},
   "source": [
    "<img src=\"http://aryancodify.tech/wp-content/uploads/2018/07/architecture.png\" />"
   ]
  },
  {
   "cell_type": "markdown",
   "metadata": {},
   "source": [
    "The researchers present a  LSTM based three layered architecture with character-enhanced token embedding layer that maps each token into a vector representation. \n",
    "\n",
    "Second Layer is the Label prediction layer that outputs a sequence of vectors containing the probability score for each token for a label.\n",
    "\n",
    "The third layer called the sequence optimization layer outputs the most likely sequence of predicted labels based on the sequence of probability vectors from the previous layer. To make sure the tokens are predicted in correct sequence the last layer also makes use of the transition probabilities T[i,j]  between two subsequent labels.\n"
   ]
  },
  {
   "cell_type": "markdown",
   "metadata": {},
   "source": [
    "**The precision and F-1 score of the used LSTM method is superior to the previously used method with an advantage that the ANN approach can learn the features from token embeddings itself using composition.**"
   ]
  },
  {
   "cell_type": "code",
   "execution_count": null,
   "metadata": {},
   "outputs": [],
   "source": []
  }
 ],
 "metadata": {
  "kernelspec": {
   "display_name": "Python 3",
   "language": "python",
   "name": "python3"
  },
  "language_info": {
   "codemirror_mode": {
    "name": "ipython",
    "version": 3
   },
   "file_extension": ".py",
   "mimetype": "text/x-python",
   "name": "python",
   "nbconvert_exporter": "python",
   "pygments_lexer": "ipython3",
   "version": "3.6.4"
  }
 },
 "nbformat": 4,
 "nbformat_minor": 2
}
